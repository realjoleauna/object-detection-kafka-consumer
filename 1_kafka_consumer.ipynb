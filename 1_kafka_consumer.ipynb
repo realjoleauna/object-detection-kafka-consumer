{
 "cells": [
  {
   "cell_type": "markdown",
   "metadata": {},
   "source": [
    "# Kafka Consumer Example - Printing Messages\n",
    "\n",
    "For an introduction to [Kafka](https://kafka.apache.org/), you may want to read some of the main [concepts](https://kafka.apache.org/documentation/#intro_concepts_and_terms).  An **event** records the fact that \"something happened\". An event has a key, value, timestamp, and optional metadata headers. **Producers** are those client applications that publish (write) events to Kafka, and **consumers** are those that subscribe to (read and process) these events.\n",
    "\n",
    "This is an example of how to write a very simple Kafka [consumer](https://kafka-python.readthedocs.io/en/master/apidoc/KafkaConsumer.html) using the kafka-python library.  This example connects to a Kafka broker configured with the `SASL_PLAIN` security protocol. It receives simple JSON formatted strings on a kafka **topic** and prints them out to the console.  This is a single consumer, but could be part of a **consumer group**. A consumer group is a set of consumers which cooperate to consume data from some topics.\n",
    "\n",
    "For a sample producer, refer to the notebook [1_kafka_producer.ipynb](./1_kafka_producer.ipynb) to send some sample events.\n",
    "\n",
    "For further reading, visit the [documentation](https://kafka.apache.org/documentation/) for Kafka and for [kafka-python](https://kafka-python.readthedocs.io/)\n"
   ]
  },
  {
   "cell_type": "markdown",
   "metadata": {},
   "source": [
    "## Dependencies\n",
    "\n",
    "- [kafka-python](https://pypi.org/project/kafka-python/) Python client for the Apache Kafka distributed stream processing system. kafka-python is designed to function much like the official java client, with a sprinkling of pythonic interfaces (e.g., consumer iterators).\n"
   ]
  },
  {
   "cell_type": "code",
   "execution_count": 1,
   "metadata": {},
   "outputs": [
    {
     "name": "stdout",
     "output_type": "stream",
     "text": [
      "Requirement already satisfied: kafka-python in /opt/app-root/lib/python3.9/site-packages (from -r requirements.txt (line 2)) (2.0.2)\n",
      "Requirement already satisfied: tensorflow in /opt/app-root/lib/python3.9/site-packages (from -r requirements.txt (line 5)) (2.11.1)\n",
      "Requirement already satisfied: matplotlib in /opt/app-root/lib/python3.9/site-packages (from -r requirements.txt (line 6)) (3.6.3)\n",
      "Requirement already satisfied: numpy in /opt/app-root/lib/python3.9/site-packages (from -r requirements.txt (line 7)) (1.24.3)\n",
      "Requirement already satisfied: boto3 in /opt/app-root/lib/python3.9/site-packages (from -r requirements.txt (line 8)) (1.26.147)\n",
      "Requirement already satisfied: absl-py>=1.0.0 in /opt/app-root/lib/python3.9/site-packages (from tensorflow->-r requirements.txt (line 5)) (1.4.0)\n",
      "Requirement already satisfied: astunparse>=1.6.0 in /opt/app-root/lib/python3.9/site-packages (from tensorflow->-r requirements.txt (line 5)) (1.6.3)\n",
      "Requirement already satisfied: flatbuffers>=2.0 in /opt/app-root/lib/python3.9/site-packages (from tensorflow->-r requirements.txt (line 5)) (2.0.7)\n",
      "Requirement already satisfied: gast<=0.4.0,>=0.2.1 in /opt/app-root/lib/python3.9/site-packages (from tensorflow->-r requirements.txt (line 5)) (0.4.0)\n",
      "Requirement already satisfied: google-pasta>=0.1.1 in /opt/app-root/lib/python3.9/site-packages (from tensorflow->-r requirements.txt (line 5)) (0.2.0)\n",
      "Requirement already satisfied: grpcio<2.0,>=1.24.3 in /opt/app-root/lib/python3.9/site-packages (from tensorflow->-r requirements.txt (line 5)) (1.54.2)\n",
      "Requirement already satisfied: h5py>=2.9.0 in /opt/app-root/lib/python3.9/site-packages (from tensorflow->-r requirements.txt (line 5)) (3.8.0)\n",
      "Requirement already satisfied: keras<2.12,>=2.11.0 in /opt/app-root/lib/python3.9/site-packages (from tensorflow->-r requirements.txt (line 5)) (2.11.0)\n",
      "Requirement already satisfied: libclang>=13.0.0 in /opt/app-root/lib/python3.9/site-packages (from tensorflow->-r requirements.txt (line 5)) (16.0.0)\n",
      "Requirement already satisfied: opt-einsum>=2.3.2 in /opt/app-root/lib/python3.9/site-packages (from tensorflow->-r requirements.txt (line 5)) (3.3.0)\n",
      "Requirement already satisfied: packaging in /opt/app-root/lib/python3.9/site-packages (from tensorflow->-r requirements.txt (line 5)) (21.3)\n",
      "Requirement already satisfied: protobuf<3.20,>=3.9.2 in /opt/app-root/lib/python3.9/site-packages (from tensorflow->-r requirements.txt (line 5)) (3.19.6)\n",
      "Requirement already satisfied: setuptools in /opt/app-root/lib/python3.9/site-packages (from tensorflow->-r requirements.txt (line 5)) (67.8.0)\n",
      "Requirement already satisfied: six>=1.12.0 in /opt/app-root/lib/python3.9/site-packages (from tensorflow->-r requirements.txt (line 5)) (1.16.0)\n",
      "Requirement already satisfied: tensorboard<2.12,>=2.11 in /opt/app-root/lib/python3.9/site-packages (from tensorflow->-r requirements.txt (line 5)) (2.11.2)\n",
      "Requirement already satisfied: tensorflow-estimator<2.12,>=2.11.0 in /opt/app-root/lib/python3.9/site-packages (from tensorflow->-r requirements.txt (line 5)) (2.11.0)\n",
      "Requirement already satisfied: termcolor>=1.1.0 in /opt/app-root/lib/python3.9/site-packages (from tensorflow->-r requirements.txt (line 5)) (2.3.0)\n",
      "Requirement already satisfied: typing-extensions>=3.6.6 in /opt/app-root/lib/python3.9/site-packages (from tensorflow->-r requirements.txt (line 5)) (4.6.3)\n",
      "Requirement already satisfied: wrapt>=1.11.0 in /opt/app-root/lib/python3.9/site-packages (from tensorflow->-r requirements.txt (line 5)) (1.15.0)\n",
      "Requirement already satisfied: tensorflow-io-gcs-filesystem>=0.23.1 in /opt/app-root/lib/python3.9/site-packages (from tensorflow->-r requirements.txt (line 5)) (0.32.0)\n",
      "Requirement already satisfied: contourpy>=1.0.1 in /opt/app-root/lib/python3.9/site-packages (from matplotlib->-r requirements.txt (line 6)) (1.0.7)\n",
      "Requirement already satisfied: cycler>=0.10 in /opt/app-root/lib/python3.9/site-packages (from matplotlib->-r requirements.txt (line 6)) (0.11.0)\n",
      "Requirement already satisfied: fonttools>=4.22.0 in /opt/app-root/lib/python3.9/site-packages (from matplotlib->-r requirements.txt (line 6)) (4.39.4)\n",
      "Requirement already satisfied: kiwisolver>=1.0.1 in /opt/app-root/lib/python3.9/site-packages (from matplotlib->-r requirements.txt (line 6)) (1.4.4)\n",
      "Requirement already satisfied: pillow>=6.2.0 in /opt/app-root/lib/python3.9/site-packages (from matplotlib->-r requirements.txt (line 6)) (9.5.0)\n",
      "Requirement already satisfied: pyparsing>=2.2.1 in /opt/app-root/lib/python3.9/site-packages (from matplotlib->-r requirements.txt (line 6)) (3.0.9)\n",
      "Requirement already satisfied: python-dateutil>=2.7 in /opt/app-root/lib/python3.9/site-packages (from matplotlib->-r requirements.txt (line 6)) (2.8.2)\n",
      "Requirement already satisfied: botocore<1.30.0,>=1.29.147 in /opt/app-root/lib/python3.9/site-packages (from boto3->-r requirements.txt (line 8)) (1.29.147)\n",
      "Requirement already satisfied: jmespath<2.0.0,>=0.7.1 in /opt/app-root/lib/python3.9/site-packages (from boto3->-r requirements.txt (line 8)) (1.0.1)\n",
      "Requirement already satisfied: s3transfer<0.7.0,>=0.6.0 in /opt/app-root/lib/python3.9/site-packages (from boto3->-r requirements.txt (line 8)) (0.6.1)\n",
      "Requirement already satisfied: wheel<1.0,>=0.23.0 in /opt/app-root/lib/python3.9/site-packages (from astunparse>=1.6.0->tensorflow->-r requirements.txt (line 5)) (0.38.4)\n",
      "Requirement already satisfied: urllib3<1.27,>=1.25.4 in /opt/app-root/lib/python3.9/site-packages (from botocore<1.30.0,>=1.29.147->boto3->-r requirements.txt (line 8)) (1.26.16)\n",
      "Requirement already satisfied: google-auth<3,>=1.6.3 in /opt/app-root/lib/python3.9/site-packages (from tensorboard<2.12,>=2.11->tensorflow->-r requirements.txt (line 5)) (2.19.1)\n",
      "Requirement already satisfied: google-auth-oauthlib<0.5,>=0.4.1 in /opt/app-root/lib/python3.9/site-packages (from tensorboard<2.12,>=2.11->tensorflow->-r requirements.txt (line 5)) (0.4.6)\n",
      "Requirement already satisfied: markdown>=2.6.8 in /opt/app-root/lib/python3.9/site-packages (from tensorboard<2.12,>=2.11->tensorflow->-r requirements.txt (line 5)) (3.4.3)\n",
      "Requirement already satisfied: requests<3,>=2.21.0 in /opt/app-root/lib/python3.9/site-packages (from tensorboard<2.12,>=2.11->tensorflow->-r requirements.txt (line 5)) (2.31.0)\n",
      "Requirement already satisfied: tensorboard-data-server<0.7.0,>=0.6.0 in /opt/app-root/lib/python3.9/site-packages (from tensorboard<2.12,>=2.11->tensorflow->-r requirements.txt (line 5)) (0.6.1)\n",
      "Requirement already satisfied: tensorboard-plugin-wit>=1.6.0 in /opt/app-root/lib/python3.9/site-packages (from tensorboard<2.12,>=2.11->tensorflow->-r requirements.txt (line 5)) (1.8.1)\n",
      "Requirement already satisfied: werkzeug>=1.0.1 in /opt/app-root/lib/python3.9/site-packages (from tensorboard<2.12,>=2.11->tensorflow->-r requirements.txt (line 5)) (2.3.4)\n",
      "Requirement already satisfied: cachetools<6.0,>=2.0.0 in /opt/app-root/lib/python3.9/site-packages (from google-auth<3,>=1.6.3->tensorboard<2.12,>=2.11->tensorflow->-r requirements.txt (line 5)) (5.3.1)\n",
      "Requirement already satisfied: pyasn1-modules>=0.2.1 in /opt/app-root/lib/python3.9/site-packages (from google-auth<3,>=1.6.3->tensorboard<2.12,>=2.11->tensorflow->-r requirements.txt (line 5)) (0.3.0)\n",
      "Requirement already satisfied: rsa<5,>=3.1.4 in /opt/app-root/lib/python3.9/site-packages (from google-auth<3,>=1.6.3->tensorboard<2.12,>=2.11->tensorflow->-r requirements.txt (line 5)) (4.9)\n",
      "Requirement already satisfied: requests-oauthlib>=0.7.0 in /opt/app-root/lib/python3.9/site-packages (from google-auth-oauthlib<0.5,>=0.4.1->tensorboard<2.12,>=2.11->tensorflow->-r requirements.txt (line 5)) (1.3.1)\n",
      "Requirement already satisfied: importlib-metadata>=4.4 in /opt/app-root/lib/python3.9/site-packages (from markdown>=2.6.8->tensorboard<2.12,>=2.11->tensorflow->-r requirements.txt (line 5)) (6.6.0)\n",
      "Requirement already satisfied: charset-normalizer<4,>=2 in /opt/app-root/lib/python3.9/site-packages (from requests<3,>=2.21.0->tensorboard<2.12,>=2.11->tensorflow->-r requirements.txt (line 5)) (3.1.0)\n",
      "Requirement already satisfied: idna<4,>=2.5 in /opt/app-root/lib/python3.9/site-packages (from requests<3,>=2.21.0->tensorboard<2.12,>=2.11->tensorflow->-r requirements.txt (line 5)) (3.4)\n",
      "Requirement already satisfied: certifi>=2017.4.17 in /opt/app-root/lib/python3.9/site-packages (from requests<3,>=2.21.0->tensorboard<2.12,>=2.11->tensorflow->-r requirements.txt (line 5)) (2023.5.7)\n",
      "Requirement already satisfied: MarkupSafe>=2.1.1 in /opt/app-root/lib/python3.9/site-packages (from werkzeug>=1.0.1->tensorboard<2.12,>=2.11->tensorflow->-r requirements.txt (line 5)) (2.1.3)\n",
      "Requirement already satisfied: zipp>=0.5 in /opt/app-root/lib/python3.9/site-packages (from importlib-metadata>=4.4->markdown>=2.6.8->tensorboard<2.12,>=2.11->tensorflow->-r requirements.txt (line 5)) (3.15.0)\n",
      "Requirement already satisfied: pyasn1<0.6.0,>=0.4.6 in /opt/app-root/lib/python3.9/site-packages (from pyasn1-modules>=0.2.1->google-auth<3,>=1.6.3->tensorboard<2.12,>=2.11->tensorflow->-r requirements.txt (line 5)) (0.5.0)\n",
      "Requirement already satisfied: oauthlib>=3.0.0 in /opt/app-root/lib/python3.9/site-packages (from requests-oauthlib>=0.7.0->google-auth-oauthlib<0.5,>=0.4.1->tensorboard<2.12,>=2.11->tensorflow->-r requirements.txt (line 5)) (3.2.2)\n"
     ]
    }
   ],
   "source": [
    "!pip install -r requirements.txt"
   ]
  },
  {
   "cell_type": "markdown",
   "metadata": {},
   "source": [
    "## Connection Information\n",
    "\n",
    "Generally, much of your connection information (servers, username,  password) will be injected as environment variables.  This prevents a user from uploading private information to source control.\n",
    "\n",
    "#### Expected Environment Variables\n",
    "- `KAFKA_BOOTSTRAP_SERVER` location of the Kafka Bootstrap Server.  e.g. 'abc.xyz.kafka.rhcloud.com:443'\n",
    "- `KAFKA_USERNAME` SASL username or client ID e.g. 'srvc-acct-1234-5678-abcd-efgj-12345678abcd'\n",
    "- `KAFKA_PASSWORD` SASL password or client secret. e.g. 'abcd1234-5678-abcd-efgj-12345678abcd'"
   ]
  },
  {
   "cell_type": "code",
   "execution_count": 2,
   "metadata": {},
   "outputs": [],
   "source": [
    "import os\n",
    "\n",
    "# location of the Kafka Bootstrap Server loaded from the environment variable.\n",
    "# e.g. 'abc.xyz.kafka.rhcloud.com:443'\n",
    "KAFKA_BOOTSTRAP_SERVER = 'a731480dad21b47dab8027343a83e4c1-1497532050.us-east-2.elb.amazonaws.com:9094'\n",
    "\n",
    "# SASL settings.  Defaults to SASL_SSL/PLAIN.\n",
    "# No auth would be PLAINTEXT/''\n",
    "KAFKA_SECURITY_PROTOCOL = os.environ.get('KAFKA_SECURITY_PROTOCOL', 'SASL_SSL')\n",
    "KAFKA_SASL_MECHANISM = os.environ.get('KAFKA_SASL_MECHANISM', 'PLAIN')\n",
    "\n",
    "# SASL username or client ID,  e.g. 'srvc-acct-1234-5678-abcd-efgj-12345678abcd'\n",
    "KAFKA_USERNAME = os.environ.get('KAFKA_USERNAME')\n",
    "\n",
    "# SASL password or client secret, e.g. 'abcd1234-5678-abcd-efgj-12345678abcd'\n",
    "KAFKA_PASSWORD = os.environ.get('KAFKA_PASSWORD')\n",
    "\n",
    "# Name of the topic for the producer to send messages.\n",
    "# Consumers will listen to this topic for events.\n",
    "KAFKA_TOPIC = os.environ.get('KAFKA_TOPIC') or 'notebook-test'\n",
    "\n",
    "# Kafka consumer group to which this consumer belongs\n",
    "KAFKA_CONSUMER_GROUP = 'notebook-consumer'\n",
    "\n",
    "\n",
    "# Uncomment for debug purposes,\n",
    "# but don't save the output anywhere\n",
    "# print(f'KAFKA_BOOTSTRAP_SERVER=\"{KAFKA_BOOTSTRAP_SERVER}\"')\n",
    "# print(f'KAFKA_SECURITY_PROTOCOL=\"{KAFKA_SECURITY_PROTOCOL}\"')\n",
    "# print(f'KAFKA_SASL_MECHANISM=\"{KAFKA_SASL_MECHANISM}\"')\n",
    "# print(f'KAFKA_USERNAME=\"{KAFKA_USERNAME}\"')\n",
    "# print(f'KAFKA_PASSWORD=\"{KAFKA_PASSWORD}\"')\n",
    "# print(f'KAFKA_TOPIC=\"{KAFKA_TOPIC}\"')\n",
    "# print(f'KAFKA_CONSUMER_GROUP=\"{KAFKA_CONSUMER_GROUP}\"')\n"
   ]
  },
  {
   "cell_type": "markdown",
   "metadata": {},
   "source": [
    "## Creating the Consumer\n",
    "\n",
    "This function will create a consumer that connects to the Kafka server set by variable `KAFKA_BOOTSTRAP_SERVER` and listen to the topic set by variable `KAFKA_TOPIC`.  The consumer receive and print out messages.  The consumer will run until the kernel is stopped."
   ]
  },
  {
   "cell_type": "code",
   "execution_count": 3,
   "metadata": {},
   "outputs": [],
   "source": [
    "from kafka import KafkaConsumer\n",
    "\n",
    "\n",
    "def create_consumer_print():\n",
    "    consumer = KafkaConsumer(KAFKA_TOPIC,\n",
    "                             group_id=KAFKA_CONSUMER_GROUP,\n",
    "                             bootstrap_servers=[KAFKA_BOOTSTRAP_SERVER],\n",
    "                             api_version_auto_timeout_ms=30000,\n",
    "                             request_timeout_ms=450000)\n",
    "    print(f'Subscribed to \"{KAFKA_BOOTSTRAP_SERVER}\" consuming topic \"{KAFKA_TOPIC}\"...')\n",
    "\n",
    "    try:\n",
    "        for record in consumer:\n",
    "            msg = record.value.decode('utf-8')\n",
    "            topic = record.topic\n",
    "            print(('Received the following message on the '\n",
    "                   f'topic \"{topic}\": {msg}'))\n",
    "\n",
    "    finally:\n",
    "        print(\"Closing consumer...\")\n",
    "        consumer.close()\n",
    "    print(\"Kafka consumer stopped.\")\n",
    "\n"
   ]
  },
  {
   "cell_type": "markdown",
   "metadata": {},
   "source": [
    "## Start Listening\n",
    "\n",
    "Starts the consumer.  Listens to events and prints out the values to the console.  **Stop the kernel to quit**"
   ]
  },
  {
   "cell_type": "code",
   "execution_count": null,
   "metadata": {},
   "outputs": [
    {
     "name": "stdout",
     "output_type": "stream",
     "text": [
      "Subscribed to \"a731480dad21b47dab8027343a83e4c1-1497532050.us-east-2.elb.amazonaws.com:9094\" consuming topic \"notebook-test\"...\n",
      "Received the following message on the topic \"notebook-test\": {\"txt\": \"hello 4\"}\n",
      "Received the following message on the topic \"notebook-test\": {\"txt\": \"hello 5\"}\n",
      "Received the following message on the topic \"notebook-test\": {\"txt\": \"hello 6\"}\n",
      "Received the following message on the topic \"notebook-test\": {\"txt\": \"hello 7\"}\n",
      "Received the following message on the topic \"notebook-test\": {\"txt\": \"hello 8\"}\n",
      "Received the following message on the topic \"notebook-test\": {\"txt\": \"hello 9\"}\n",
      "Received the following message on the topic \"notebook-test\": {\"txt\": \"hello 10\"}\n",
      "Received the following message on the topic \"notebook-test\": {\"txt\": \"hello 11\"}\n",
      "Received the following message on the topic \"notebook-test\": {\"txt\": \"hello 12\"}\n",
      "Received the following message on the topic \"notebook-test\": {\"txt\": \"hello 13\"}\n",
      "Received the following message on the topic \"notebook-test\": {\"txt\": \"hello 14\"}\n",
      "Received the following message on the topic \"notebook-test\": {\"txt\": \"hello 15\"}\n",
      "Received the following message on the topic \"notebook-test\": {\"txt\": \"hello 16\"}\n",
      "Received the following message on the topic \"notebook-test\": {\"txt\": \"hello 17\"}\n",
      "Received the following message on the topic \"notebook-test\": {\"txt\": \"hello 18\"}\n",
      "Received the following message on the topic \"notebook-test\": {\"txt\": \"hello 19\"}\n",
      "Received the following message on the topic \"notebook-test\": {\"txt\": \"hello 20\"}\n"
     ]
    }
   ],
   "source": [
    "try:\n",
    "    create_consumer_print()\n",
    "except KeyboardInterrupt:\n",
    "    print('Stopped')"
   ]
  },
  {
   "cell_type": "code",
   "execution_count": null,
   "metadata": {},
   "outputs": [],
   "source": []
  }
 ],
 "metadata": {
  "kernelspec": {
   "display_name": "Python 3.9.16",
   "language": "python",
   "name": "python3"
  },
  "language_info": {
   "codemirror_mode": {
    "name": "ipython",
    "version": 3
   },
   "file_extension": ".py",
   "mimetype": "text/x-python",
   "name": "python",
   "nbconvert_exporter": "python",
   "pygments_lexer": "ipython3",
   "version": "3.9.16"
  }
 },
 "nbformat": 4,
 "nbformat_minor": 4
}
